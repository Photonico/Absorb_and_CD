{
 "cells": [
  {
   "cell_type": "markdown",
   "metadata": {},
   "source": [
    "# Linear abosrption and circular dischroism for larger aggregates in specific Geometries: Helix and Creeper\n"
   ]
  },
  {
   "cell_type": "code",
   "execution_count": null,
   "metadata": {},
   "outputs": [],
   "source": [
    "# General functions\n",
    "\n",
    "import numpy as np\n",
    "\n",
    "π = 3.14159265\n",
    "\n",
    "def lorentzian(x, x_0, γ):\n",
    "    \"\"\"\n",
    "    Calculate the lorentzian distribution (equation 5)\n",
    "        lorentzian(x, x_0, γ) = (1/π) * γ/((x-x_0)^2+γ^2)\n",
    "    x (array): variable;\n",
    "    γ (float): scale parameter of half-width;\n",
    "    x0 (float): location parameter of the peak's center.\n",
    "    \"\"\"\n",
    "    return (1/π) * γ/((x-x_0)**2+γ**2)\n",
    "\n",
    "def normalize(vec):\n",
    "    \"\"\"\n",
    "    Return the normalized vector of vec\n",
    "    This is a standard helper function used to normalize a vector,\n",
    "    which is useful for constructing unit vectors for dipole directions or other calculations requiring normalized vectors.\n",
    "    \"\"\"\n",
    "    norm = np.linalg.norm(vec)\n",
    "    if norm == 0:\n",
    "        return vec\n",
    "    return vec / norm\n"
   ]
  },
  {
   "cell_type": "code",
   "execution_count": null,
   "metadata": {},
   "outputs": [],
   "source": [
    "# Interactions\n",
    "\n",
    "def dipole_coupling_element(e_i, e_j, r_i, r_j):\n",
    "    \"\"\"\n",
    "    (eqn.8) Calculate the geometrical coupling factor G_ij between two molecules i and j,\n",
    "    based on the dipole-dipole interaction in the point-dipole approximation:\n",
    "\n",
    "    G_ij = (e_i·e_j - 3 (e_i·r_hat)(e_j·r_hat)) / r^3,\n",
    "\n",
    "    where r = r_j - r_i and r_hat = r / |r|.\n",
    "    \"\"\"\n",
    "    r_vec = r_j - r_i\n",
    "    r = np.linalg.norm(r_vec)\n",
    "    if r == 0:\n",
    "        return 0.0\n",
    "    r_hat = r_vec / r\n",
    "    dot_e = np.dot(e_i, e_j)\n",
    "    dot_i = np.dot(e_i, r_hat)\n",
    "    dot_j = np.dot(e_j, r_hat)\n",
    "    return (dot_e - 3 * dot_i * dot_j) / (r**3)\n"
   ]
  }
 ],
 "metadata": {
  "language_info": {
   "name": "python"
  }
 },
 "nbformat": 4,
 "nbformat_minor": 2
}
