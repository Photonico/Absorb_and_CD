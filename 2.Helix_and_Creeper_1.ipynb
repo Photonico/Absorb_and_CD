{
 "cells": [
  {
   "cell_type": "markdown",
   "metadata": {},
   "source": [
    "# Linear abosrption and circular dischroism for larger aggregates in specific Geometries: Helix and Creeper\n"
   ]
  },
  {
   "cell_type": "code",
   "execution_count": null,
   "metadata": {},
   "outputs": [],
   "source": [
    "#### General functions\n",
    "\n",
    "import numpy as np\n",
    "\n",
    "## general constants\n",
    "π = np.pi\n",
    "ε_0 = 8.8541878188e-12  # vacuum permittivity in F/m\n",
    "\n",
    "## system constants\n",
    "μ_0 = 1                 # transition dipole moment of a specific system in C·m\n",
    "\n",
    "def normalize(vec):\n",
    "    \"\"\"\n",
    "    The normalization of vectors\n",
    "    This is a standard helper function used to normalize a vector,\n",
    "    which is useful for constructing unit vectors for dipole directions or other calculations requiring normalized vectors.\n",
    "    \"\"\"\n",
    "    norm = np.linalg.norm(vec)\n",
    "    if norm == 0:\n",
    "        return vec\n",
    "    return vec / norm\n",
    "\n",
    "def lorentzian(x, x_0, γ):\n",
    "    \"\"\"\n",
    "    Lorentzian distribution (equation 5)\n",
    "        lorentzian(x, x_0, γ) = (1/π) * γ/((x-x_0)^2+γ^2)\n",
    "    x (array): variable;\n",
    "    γ (float): scale parameter of half-width;\n",
    "    x0 (float): location parameter of the peak's center.\n",
    "    \"\"\"\n",
    "    return (1/π) * γ/((x-x_0)**2+γ**2)\n"
   ]
  },
  {
   "cell_type": "code",
   "execution_count": null,
   "metadata": {},
   "outputs": [],
   "source": [
    "#### Interactions\n",
    "\n",
    "def dipole_coupling_element(e_i, e_j, r_i, r_j):\n",
    "    \"\"\"\n",
    "    The ODA geometrical dipole coupling factor (equation 8)\n",
    "        G_ij = (e_i·e_j-3(e_i·d)(e_j·d))/r^3,\n",
    "    where r = r_j-r_i and d = r/|r|;\n",
    "    The dimension is energy in joule\n",
    "    \"\"\"\n",
    "    d_vec = r_j - r_i\n",
    "    r = np.linalg.norm(d_vec)\n",
    "    if r == 0:\n",
    "        return 0.0\n",
    "    d = d_vec/r\n",
    "    dot_e = np.dot(e_i, e_j)\n",
    "    dot_i = np.dot(e_i, d)\n",
    "    dot_j = np.dot(e_j, d)\n",
    "    return (1/(4*π*ε_0))*(dot_e-3*dot_i*dot_j)/(r**3)\n"
   ]
  }
 ],
 "metadata": {
  "language_info": {
   "name": "python"
  }
 },
 "nbformat": 4,
 "nbformat_minor": 2
}
