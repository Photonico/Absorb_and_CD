{
 "cells": [
  {
   "cell_type": "markdown",
   "metadata": {},
   "source": [
    "# Linear abosrption and circular dischroism for larger aggregates in specific Geometries: Helix and Creeper\n",
    "\n",
    "## 0.Overview\n",
    "\n",
    "We are going to extend the discussion from the simple dimer system to aggregates consisting of many molecules. For the generalization of the theoretical framework to study larger systems, we introduce two seemingly different theoretical approaches:\n",
    "* The Oscillating Dipole Approach (ODA)\n",
    "* The Polarizable Object Approach (POA)\n",
    "\n",
    "They remain equivalent when applied to aggregates of multiple molecules systems.\n"
   ]
  },
  {
   "cell_type": "markdown",
   "metadata": {},
   "source": [
    "## 1.Generalization from Dimer to N-Molecule Systems"
   ]
  },
  {
   "cell_type": "markdown",
   "metadata": {},
   "source": []
  }
 ],
 "metadata": {
  "language_info": {
   "name": "python"
  }
 },
 "nbformat": 4,
 "nbformat_minor": 2
}
