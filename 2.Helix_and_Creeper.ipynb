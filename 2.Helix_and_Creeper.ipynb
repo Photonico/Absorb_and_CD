{
 "cells": [
  {
   "cell_type": "markdown",
   "metadata": {},
   "source": [
    "# Linear abosrption and circular dischroism for larger aggregates in specific Geometries: Helix and Creeper\n",
    "\n",
    "## 0.Overview"
   ]
  }
 ],
 "metadata": {
  "language_info": {
   "name": "python"
  }
 },
 "nbformat": 4,
 "nbformat_minor": 2
}
